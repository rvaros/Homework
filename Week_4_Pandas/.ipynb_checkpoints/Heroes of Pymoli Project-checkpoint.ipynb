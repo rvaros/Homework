{
 "cells": [
  {
   "cell_type": "code",
   "execution_count": 1,
   "metadata": {},
   "outputs": [],
   "source": [
    "import pandas as pd\n",
    "import numpy as np"
   ]
  },
  {
   "cell_type": "code",
   "execution_count": 2,
   "metadata": {},
   "outputs": [],
   "source": [
    "file1 = \"HOP_data.csv\""
   ]
  },
  {
   "cell_type": "code",
   "execution_count": 3,
   "metadata": {},
   "outputs": [],
   "source": [
    "purchase_df = pd.read_csv(file1)"
   ]
  },
  {
   "cell_type": "code",
   "execution_count": 4,
   "metadata": {},
   "outputs": [
    {
     "data": {
      "text/html": [
       "<div>\n",
       "<style scoped>\n",
       "    .dataframe tbody tr th:only-of-type {\n",
       "        vertical-align: middle;\n",
       "    }\n",
       "\n",
       "    .dataframe tbody tr th {\n",
       "        vertical-align: top;\n",
       "    }\n",
       "\n",
       "    .dataframe thead th {\n",
       "        text-align: right;\n",
       "    }\n",
       "</style>\n",
       "<table border=\"1\" class=\"dataframe\">\n",
       "  <thead>\n",
       "    <tr style=\"text-align: right;\">\n",
       "      <th></th>\n",
       "      <th>Purchase ID</th>\n",
       "      <th>SN</th>\n",
       "      <th>Age</th>\n",
       "      <th>Gender</th>\n",
       "      <th>Item ID</th>\n",
       "      <th>Item Name</th>\n",
       "      <th>Price</th>\n",
       "    </tr>\n",
       "  </thead>\n",
       "  <tbody>\n",
       "    <tr>\n",
       "      <th>0</th>\n",
       "      <td>0</td>\n",
       "      <td>Lisim78</td>\n",
       "      <td>20</td>\n",
       "      <td>Male</td>\n",
       "      <td>108</td>\n",
       "      <td>Extraction, Quickblade Of Trembling Hands</td>\n",
       "      <td>3.53</td>\n",
       "    </tr>\n",
       "    <tr>\n",
       "      <th>1</th>\n",
       "      <td>1</td>\n",
       "      <td>Lisovynya38</td>\n",
       "      <td>40</td>\n",
       "      <td>Male</td>\n",
       "      <td>143</td>\n",
       "      <td>Frenzied Scimitar</td>\n",
       "      <td>1.56</td>\n",
       "    </tr>\n",
       "    <tr>\n",
       "      <th>2</th>\n",
       "      <td>2</td>\n",
       "      <td>Ithergue48</td>\n",
       "      <td>24</td>\n",
       "      <td>Male</td>\n",
       "      <td>92</td>\n",
       "      <td>Final Critic</td>\n",
       "      <td>4.88</td>\n",
       "    </tr>\n",
       "    <tr>\n",
       "      <th>3</th>\n",
       "      <td>3</td>\n",
       "      <td>Chamassasya86</td>\n",
       "      <td>24</td>\n",
       "      <td>Male</td>\n",
       "      <td>100</td>\n",
       "      <td>Blindscythe</td>\n",
       "      <td>3.27</td>\n",
       "    </tr>\n",
       "    <tr>\n",
       "      <th>4</th>\n",
       "      <td>4</td>\n",
       "      <td>Iskosia90</td>\n",
       "      <td>23</td>\n",
       "      <td>Male</td>\n",
       "      <td>131</td>\n",
       "      <td>Fury</td>\n",
       "      <td>1.44</td>\n",
       "    </tr>\n",
       "  </tbody>\n",
       "</table>\n",
       "</div>"
      ],
      "text/plain": [
       "   Purchase ID             SN  Age Gender  Item ID  \\\n",
       "0            0        Lisim78   20   Male      108   \n",
       "1            1    Lisovynya38   40   Male      143   \n",
       "2            2     Ithergue48   24   Male       92   \n",
       "3            3  Chamassasya86   24   Male      100   \n",
       "4            4      Iskosia90   23   Male      131   \n",
       "\n",
       "                                   Item Name  Price  \n",
       "0  Extraction, Quickblade Of Trembling Hands   3.53  \n",
       "1                          Frenzied Scimitar   1.56  \n",
       "2                               Final Critic   4.88  \n",
       "3                                Blindscythe   3.27  \n",
       "4                                       Fury   1.44  "
      ]
     },
     "execution_count": 4,
     "metadata": {},
     "output_type": "execute_result"
    }
   ],
   "source": [
    "purchase_df.head()"
   ]
  },
  {
   "cell_type": "code",
   "execution_count": 5,
   "metadata": {},
   "outputs": [
    {
     "data": {
      "text/plain": [
       "Index(['Purchase ID', 'SN', 'Age', 'Gender', 'Item ID', 'Item Name', 'Price'], dtype='object')"
      ]
     },
     "execution_count": 5,
     "metadata": {},
     "output_type": "execute_result"
    }
   ],
   "source": [
    "purchase_df.columns"
   ]
  },
  {
   "cell_type": "code",
   "execution_count": 6,
   "metadata": {},
   "outputs": [
    {
     "data": {
      "text/html": [
       "<div>\n",
       "<style scoped>\n",
       "    .dataframe tbody tr th:only-of-type {\n",
       "        vertical-align: middle;\n",
       "    }\n",
       "\n",
       "    .dataframe tbody tr th {\n",
       "        vertical-align: top;\n",
       "    }\n",
       "\n",
       "    .dataframe thead th {\n",
       "        text-align: right;\n",
       "    }\n",
       "</style>\n",
       "<table border=\"1\" class=\"dataframe\">\n",
       "  <thead>\n",
       "    <tr style=\"text-align: right;\">\n",
       "      <th></th>\n",
       "      <th>Total Players</th>\n",
       "    </tr>\n",
       "  </thead>\n",
       "  <tbody>\n",
       "    <tr>\n",
       "      <th>0</th>\n",
       "      <td>576</td>\n",
       "    </tr>\n",
       "  </tbody>\n",
       "</table>\n",
       "</div>"
      ],
      "text/plain": [
       "   Total Players\n",
       "0            576"
      ]
     },
     "execution_count": 6,
     "metadata": {},
     "output_type": "execute_result"
    }
   ],
   "source": [
    "# Player Count\n",
    "user_count = len(purchase_df[\"SN\"].unique())\n",
    "player_count = pd.DataFrame({'Total Players': user_count}, index=[0])\n",
    "player_count"
   ]
  },
  {
   "cell_type": "code",
   "execution_count": 7,
   "metadata": {},
   "outputs": [
    {
     "data": {
      "text/html": [
       "<style  type=\"text/css\" >\n",
       "</style>  \n",
       "<table id=\"T_a0570722_e4a4_11e8_ba1a_c49ded1c936a\" > \n",
       "<thead>    <tr> \n",
       "        <th class=\"blank level0\" ></th> \n",
       "        <th class=\"col_heading level0 col0\" >Number of Unique Items</th> \n",
       "        <th class=\"col_heading level0 col1\" >Average Purchase Price</th> \n",
       "        <th class=\"col_heading level0 col2\" >Total Number of Purchases</th> \n",
       "        <th class=\"col_heading level0 col3\" >Total Revenue</th> \n",
       "    </tr></thead> \n",
       "<tbody>    <tr> \n",
       "        <th id=\"T_a0570722_e4a4_11e8_ba1a_c49ded1c936alevel0_row0\" class=\"row_heading level0 row0\" >0</th> \n",
       "        <td id=\"T_a0570722_e4a4_11e8_ba1a_c49ded1c936arow0_col0\" class=\"data row0 col0\" >183</td> \n",
       "        <td id=\"T_a0570722_e4a4_11e8_ba1a_c49ded1c936arow0_col1\" class=\"data row0 col1\" >$3.05</td> \n",
       "        <td id=\"T_a0570722_e4a4_11e8_ba1a_c49ded1c936arow0_col2\" class=\"data row0 col2\" >780</td> \n",
       "        <td id=\"T_a0570722_e4a4_11e8_ba1a_c49ded1c936arow0_col3\" class=\"data row0 col3\" >$2,379.77</td> \n",
       "    </tr></tbody> \n",
       "</table> "
      ],
      "text/plain": [
       "<pandas.io.formats.style.Styler at 0x2a998e59860>"
      ]
     },
     "execution_count": 7,
     "metadata": {},
     "output_type": "execute_result"
    }
   ],
   "source": [
    "# Purchasing Analysis (Total)\n",
    "unique_items = len(purchase_df['Item ID'].unique())\n",
    "average_price = purchase_df['Price'].mean()\n",
    "purchase_count = purchase_df['Purchase ID'].count()\n",
    "total_price = purchase_df['Price'].sum()\n",
    "\n",
    "purchase_summary = pd.DataFrame({'Number of Unique Items': unique_items, \n",
    "                                 'Average Purchase Price': average_price,\n",
    "                                'Total Number of Purchases': purchase_count, \n",
    "                                 'Total Revenue': total_price}, index=[0], columns=['Number of Unique Items', \n",
    "                                                                                        'Average Purchase Price', \n",
    "                                                                                        'Total Number of Purchases', \n",
    "                                                                                        'Total Revenue'])\n",
    "\n",
    "purchase_summary = purchase_summary.style.format({'Average Purchase Price': '${:,.2f}', 'Total Revenue': '${:,.2f}'})\n",
    "purchase_summary"
   ]
  },
  {
   "cell_type": "code",
   "execution_count": 8,
   "metadata": {},
   "outputs": [
    {
     "data": {
      "text/html": [
       "<style  type=\"text/css\" >\n",
       "</style>  \n",
       "<table id=\"T_a05b487e_e4a4_11e8_b4e6_c49ded1c936a\" > \n",
       "<thead>    <tr> \n",
       "        <th class=\"blank level0\" ></th> \n",
       "        <th class=\"col_heading level0 col0\" >Player Count</th> \n",
       "        <th class=\"col_heading level0 col1\" >Percentage of Players</th> \n",
       "    </tr>    <tr> \n",
       "        <th class=\"index_name level0\" >Gender</th> \n",
       "        <th class=\"blank\" ></th> \n",
       "        <th class=\"blank\" ></th> \n",
       "    </tr></thead> \n",
       "<tbody>    <tr> \n",
       "        <th id=\"T_a05b487e_e4a4_11e8_b4e6_c49ded1c936alevel0_row0\" class=\"row_heading level0 row0\" >Female</th> \n",
       "        <td id=\"T_a05b487e_e4a4_11e8_b4e6_c49ded1c936arow0_col0\" class=\"data row0 col0\" >81</td> \n",
       "        <td id=\"T_a05b487e_e4a4_11e8_b4e6_c49ded1c936arow0_col1\" class=\"data row0 col1\" >14.06%</td> \n",
       "    </tr>    <tr> \n",
       "        <th id=\"T_a05b487e_e4a4_11e8_b4e6_c49ded1c936alevel0_row1\" class=\"row_heading level0 row1\" >Male</th> \n",
       "        <td id=\"T_a05b487e_e4a4_11e8_b4e6_c49ded1c936arow1_col0\" class=\"data row1 col0\" >484</td> \n",
       "        <td id=\"T_a05b487e_e4a4_11e8_b4e6_c49ded1c936arow1_col1\" class=\"data row1 col1\" >84.03%</td> \n",
       "    </tr>    <tr> \n",
       "        <th id=\"T_a05b487e_e4a4_11e8_b4e6_c49ded1c936alevel0_row2\" class=\"row_heading level0 row2\" >Other / Non-Disclosed</th> \n",
       "        <td id=\"T_a05b487e_e4a4_11e8_b4e6_c49ded1c936arow2_col0\" class=\"data row2 col0\" >11</td> \n",
       "        <td id=\"T_a05b487e_e4a4_11e8_b4e6_c49ded1c936arow2_col1\" class=\"data row2 col1\" >1.91%</td> \n",
       "    </tr></tbody> \n",
       "</table> "
      ],
      "text/plain": [
       "<pandas.io.formats.style.Styler at 0x2a999bbc978>"
      ]
     },
     "execution_count": 8,
     "metadata": {},
     "output_type": "execute_result"
    }
   ],
   "source": [
    "# Gender Demographics\n",
    "gender = pd.DataFrame(purchase_df.groupby('Gender').SN.nunique())\n",
    "gender = gender.rename(index=str, columns={'SN': 'Player Count'})\n",
    "gender['Percentage of Players'] = gender['Player Count'] / sum(gender['Player Count'])*100\n",
    "gender = gender.style.format({'Percentage of Players': '{:.2f}%'})\n",
    "gender"
   ]
  },
  {
   "cell_type": "code",
   "execution_count": 9,
   "metadata": {},
   "outputs": [
    {
     "name": "stderr",
     "output_type": "stream",
     "text": [
      "C:\\Users\\richv\\Anaconda3\\lib\\site-packages\\pandas\\core\\groupby\\groupby.py:4656: FutureWarning: using a dict with renaming is deprecated and will be removed in a future version\n",
      "  return super(DataFrameGroupBy, self).aggregate(arg, *args, **kwargs)\n"
     ]
    },
    {
     "data": {
      "text/html": [
       "<style  type=\"text/css\" >\n",
       "</style>  \n",
       "<table id=\"T_a08a00b4_e4a4_11e8_a082_c49ded1c936a\" > \n",
       "<thead>    <tr> \n",
       "        <th class=\"blank level0\" ></th> \n",
       "        <th class=\"col_heading level0 col0\" >Purchase Count</th> \n",
       "        <th class=\"col_heading level0 col1\" >Average Purchase Price</th> \n",
       "        <th class=\"col_heading level0 col2\" >Total Purchase Value</th> \n",
       "        <th class=\"col_heading level0 col3\" >Normalized Totals</th> \n",
       "    </tr>    <tr> \n",
       "        <th class=\"index_name level0\" >Gender</th> \n",
       "        <th class=\"blank\" ></th> \n",
       "        <th class=\"blank\" ></th> \n",
       "        <th class=\"blank\" ></th> \n",
       "        <th class=\"blank\" ></th> \n",
       "    </tr></thead> \n",
       "<tbody>    <tr> \n",
       "        <th id=\"T_a08a00b4_e4a4_11e8_a082_c49ded1c936alevel0_row0\" class=\"row_heading level0 row0\" >Female</th> \n",
       "        <td id=\"T_a08a00b4_e4a4_11e8_a082_c49ded1c936arow0_col0\" class=\"data row0 col0\" >113</td> \n",
       "        <td id=\"T_a08a00b4_e4a4_11e8_a082_c49ded1c936arow0_col1\" class=\"data row0 col1\" >$3.20</td> \n",
       "        <td id=\"T_a08a00b4_e4a4_11e8_a082_c49ded1c936arow0_col2\" class=\"data row0 col2\" >$361.94</td> \n",
       "        <td id=\"T_a08a00b4_e4a4_11e8_a082_c49ded1c936arow0_col3\" class=\"data row0 col3\" >$3.20</td> \n",
       "    </tr>    <tr> \n",
       "        <th id=\"T_a08a00b4_e4a4_11e8_a082_c49ded1c936alevel0_row1\" class=\"row_heading level0 row1\" >Male</th> \n",
       "        <td id=\"T_a08a00b4_e4a4_11e8_a082_c49ded1c936arow1_col0\" class=\"data row1 col0\" >652</td> \n",
       "        <td id=\"T_a08a00b4_e4a4_11e8_a082_c49ded1c936arow1_col1\" class=\"data row1 col1\" >$3.02</td> \n",
       "        <td id=\"T_a08a00b4_e4a4_11e8_a082_c49ded1c936arow1_col2\" class=\"data row1 col2\" >$1967.64</td> \n",
       "        <td id=\"T_a08a00b4_e4a4_11e8_a082_c49ded1c936arow1_col3\" class=\"data row1 col3\" >$3.02</td> \n",
       "    </tr>    <tr> \n",
       "        <th id=\"T_a08a00b4_e4a4_11e8_a082_c49ded1c936alevel0_row2\" class=\"row_heading level0 row2\" >Other / Non-Disclosed</th> \n",
       "        <td id=\"T_a08a00b4_e4a4_11e8_a082_c49ded1c936arow2_col0\" class=\"data row2 col0\" >15</td> \n",
       "        <td id=\"T_a08a00b4_e4a4_11e8_a082_c49ded1c936arow2_col1\" class=\"data row2 col1\" >$3.35</td> \n",
       "        <td id=\"T_a08a00b4_e4a4_11e8_a082_c49ded1c936arow2_col2\" class=\"data row2 col2\" >$50.19</td> \n",
       "        <td id=\"T_a08a00b4_e4a4_11e8_a082_c49ded1c936arow2_col3\" class=\"data row2 col3\" >$3.35</td> \n",
       "    </tr></tbody> \n",
       "</table> "
      ],
      "text/plain": [
       "<pandas.io.formats.style.Styler at 0x2a999bbc908>"
      ]
     },
     "execution_count": 9,
     "metadata": {},
     "output_type": "execute_result"
    }
   ],
   "source": [
    "# Purchasing Analysis (Gender)\n",
    "gender_stats = pd.DataFrame(purchase_df.groupby('Gender').agg({'Purchase ID':'count', 'Price': {'Total Purchase Value':'sum', 'Average Purchase Price':'mean'}}))\n",
    "gender_stats.columns = gender_stats.columns.get_level_values(1) \n",
    "gender_stats = gender_stats.rename(index=str, columns={'count': 'Purchase Count'})\n",
    "gender_stats['Normalized Totals'] = gender_stats['Total Purchase Value']/gender_stats['Purchase Count']\n",
    "gender_stats = gender_stats[['Purchase Count', 'Average Purchase Price', 'Total Purchase Value', 'Normalized Totals']]\n",
    "gender_stats = gender_stats.style.format({'Total Purchase Value': '${:.2f}', 'Average Purchase Price': '${:.2f}', 'Normalized Totals':'${:.2f}'})\n",
    "gender_stats"
   ]
  },
  {
   "cell_type": "code",
   "execution_count": 10,
   "metadata": {},
   "outputs": [
    {
     "data": {
      "text/html": [
       "<style  type=\"text/css\" >\n",
       "</style>  \n",
       "<table id=\"T_a11d9e5c_e4a4_11e8_8735_c49ded1c936a\" > \n",
       "<thead>    <tr> \n",
       "        <th class=\"blank level0\" ></th> \n",
       "        <th class=\"col_heading level0 col0\" >Player Count</th> \n",
       "        <th class=\"col_heading level0 col1\" >Percentage of Players</th> \n",
       "    </tr>    <tr> \n",
       "        <th class=\"index_name level0\" >Age</th> \n",
       "        <th class=\"blank\" ></th> \n",
       "        <th class=\"blank\" ></th> \n",
       "    </tr></thead> \n",
       "<tbody>    <tr> \n",
       "        <th id=\"T_a11d9e5c_e4a4_11e8_8735_c49ded1c936alevel0_row0\" class=\"row_heading level0 row0\" ><10</th> \n",
       "        <td id=\"T_a11d9e5c_e4a4_11e8_8735_c49ded1c936arow0_col0\" class=\"data row0 col0\" >17</td> \n",
       "        <td id=\"T_a11d9e5c_e4a4_11e8_8735_c49ded1c936arow0_col1\" class=\"data row0 col1\" >2.95%</td> \n",
       "    </tr>    <tr> \n",
       "        <th id=\"T_a11d9e5c_e4a4_11e8_8735_c49ded1c936alevel0_row1\" class=\"row_heading level0 row1\" >10-14</th> \n",
       "        <td id=\"T_a11d9e5c_e4a4_11e8_8735_c49ded1c936arow1_col0\" class=\"data row1 col0\" >22</td> \n",
       "        <td id=\"T_a11d9e5c_e4a4_11e8_8735_c49ded1c936arow1_col1\" class=\"data row1 col1\" >3.82%</td> \n",
       "    </tr>    <tr> \n",
       "        <th id=\"T_a11d9e5c_e4a4_11e8_8735_c49ded1c936alevel0_row2\" class=\"row_heading level0 row2\" >15-19</th> \n",
       "        <td id=\"T_a11d9e5c_e4a4_11e8_8735_c49ded1c936arow2_col0\" class=\"data row2 col0\" >107</td> \n",
       "        <td id=\"T_a11d9e5c_e4a4_11e8_8735_c49ded1c936arow2_col1\" class=\"data row2 col1\" >18.58%</td> \n",
       "    </tr>    <tr> \n",
       "        <th id=\"T_a11d9e5c_e4a4_11e8_8735_c49ded1c936alevel0_row3\" class=\"row_heading level0 row3\" >20-24</th> \n",
       "        <td id=\"T_a11d9e5c_e4a4_11e8_8735_c49ded1c936arow3_col0\" class=\"data row3 col0\" >258</td> \n",
       "        <td id=\"T_a11d9e5c_e4a4_11e8_8735_c49ded1c936arow3_col1\" class=\"data row3 col1\" >44.79%</td> \n",
       "    </tr>    <tr> \n",
       "        <th id=\"T_a11d9e5c_e4a4_11e8_8735_c49ded1c936alevel0_row4\" class=\"row_heading level0 row4\" >25-29</th> \n",
       "        <td id=\"T_a11d9e5c_e4a4_11e8_8735_c49ded1c936arow4_col0\" class=\"data row4 col0\" >77</td> \n",
       "        <td id=\"T_a11d9e5c_e4a4_11e8_8735_c49ded1c936arow4_col1\" class=\"data row4 col1\" >13.37%</td> \n",
       "    </tr>    <tr> \n",
       "        <th id=\"T_a11d9e5c_e4a4_11e8_8735_c49ded1c936alevel0_row5\" class=\"row_heading level0 row5\" >30-34</th> \n",
       "        <td id=\"T_a11d9e5c_e4a4_11e8_8735_c49ded1c936arow5_col0\" class=\"data row5 col0\" >52</td> \n",
       "        <td id=\"T_a11d9e5c_e4a4_11e8_8735_c49ded1c936arow5_col1\" class=\"data row5 col1\" >9.03%</td> \n",
       "    </tr>    <tr> \n",
       "        <th id=\"T_a11d9e5c_e4a4_11e8_8735_c49ded1c936alevel0_row6\" class=\"row_heading level0 row6\" >35-39</th> \n",
       "        <td id=\"T_a11d9e5c_e4a4_11e8_8735_c49ded1c936arow6_col0\" class=\"data row6 col0\" >31</td> \n",
       "        <td id=\"T_a11d9e5c_e4a4_11e8_8735_c49ded1c936arow6_col1\" class=\"data row6 col1\" >5.38%</td> \n",
       "    </tr>    <tr> \n",
       "        <th id=\"T_a11d9e5c_e4a4_11e8_8735_c49ded1c936alevel0_row7\" class=\"row_heading level0 row7\" >40+</th> \n",
       "        <td id=\"T_a11d9e5c_e4a4_11e8_8735_c49ded1c936arow7_col0\" class=\"data row7 col0\" >12</td> \n",
       "        <td id=\"T_a11d9e5c_e4a4_11e8_8735_c49ded1c936arow7_col1\" class=\"data row7 col1\" >2.08%</td> \n",
       "    </tr></tbody> \n",
       "</table> "
      ],
      "text/plain": [
       "<pandas.io.formats.style.Styler at 0x2a996c1ff60>"
      ]
     },
     "execution_count": 10,
     "metadata": {},
     "output_type": "execute_result"
    }
   ],
   "source": [
    "# Age Demographics\n",
    "age_bins = [0, 9.90, 14.90, 19.90, 24.90, 29.90, 34.90, 39.90, 99999]\n",
    "group_names = [\"<10\", \"10-14\", \"15-19\", \"20-24\", \"25-29\", \"30-34\", \"35-39\", \"40+\"]\n",
    "purchase_df['Age'] = pd.cut(purchase_df['Age'], age_bins, labels=group_names)\n",
    "age_demo = pd.DataFrame(purchase_df.groupby('Age').SN.nunique())\n",
    "age_demo = age_demo.rename(index=str, columns={'SN': 'Player Count'})\n",
    "age_demo['Percentage of Players'] = age_demo['Player Count'] / sum(age_demo['Player Count'])*100\n",
    "age_demo = age_demo.style.format({'Percentage of Players': '{:.2f}%'})\n",
    "age_demo"
   ]
  },
  {
   "cell_type": "code",
   "execution_count": 11,
   "metadata": {},
   "outputs": [
    {
     "data": {
      "text/html": [
       "<style  type=\"text/css\" >\n",
       "</style>  \n",
       "<table id=\"T_a181c0de_e4a4_11e8_a324_c49ded1c936a\" > \n",
       "<thead>    <tr> \n",
       "        <th class=\"blank level0\" ></th> \n",
       "        <th class=\"col_heading level0 col0\" >Purchase Count</th> \n",
       "        <th class=\"col_heading level0 col1\" >Average Purchase Price</th> \n",
       "        <th class=\"col_heading level0 col2\" >Total Purchase Value</th> \n",
       "        <th class=\"col_heading level0 col3\" >Normalized Totals</th> \n",
       "    </tr>    <tr> \n",
       "        <th class=\"index_name level0\" >Age</th> \n",
       "        <th class=\"blank\" ></th> \n",
       "        <th class=\"blank\" ></th> \n",
       "        <th class=\"blank\" ></th> \n",
       "        <th class=\"blank\" ></th> \n",
       "    </tr></thead> \n",
       "<tbody>    <tr> \n",
       "        <th id=\"T_a181c0de_e4a4_11e8_a324_c49ded1c936alevel0_row0\" class=\"row_heading level0 row0\" ><10</th> \n",
       "        <td id=\"T_a181c0de_e4a4_11e8_a324_c49ded1c936arow0_col0\" class=\"data row0 col0\" >23</td> \n",
       "        <td id=\"T_a181c0de_e4a4_11e8_a324_c49ded1c936arow0_col1\" class=\"data row0 col1\" >$3.35</td> \n",
       "        <td id=\"T_a181c0de_e4a4_11e8_a324_c49ded1c936arow0_col2\" class=\"data row0 col2\" >$77.13</td> \n",
       "        <td id=\"T_a181c0de_e4a4_11e8_a324_c49ded1c936arow0_col3\" class=\"data row0 col3\" >$3.35</td> \n",
       "    </tr>    <tr> \n",
       "        <th id=\"T_a181c0de_e4a4_11e8_a324_c49ded1c936alevel0_row1\" class=\"row_heading level0 row1\" >10-14</th> \n",
       "        <td id=\"T_a181c0de_e4a4_11e8_a324_c49ded1c936arow1_col0\" class=\"data row1 col0\" >28</td> \n",
       "        <td id=\"T_a181c0de_e4a4_11e8_a324_c49ded1c936arow1_col1\" class=\"data row1 col1\" >$2.96</td> \n",
       "        <td id=\"T_a181c0de_e4a4_11e8_a324_c49ded1c936arow1_col2\" class=\"data row1 col2\" >$82.78</td> \n",
       "        <td id=\"T_a181c0de_e4a4_11e8_a324_c49ded1c936arow1_col3\" class=\"data row1 col3\" >$2.96</td> \n",
       "    </tr>    <tr> \n",
       "        <th id=\"T_a181c0de_e4a4_11e8_a324_c49ded1c936alevel0_row2\" class=\"row_heading level0 row2\" >15-19</th> \n",
       "        <td id=\"T_a181c0de_e4a4_11e8_a324_c49ded1c936arow2_col0\" class=\"data row2 col0\" >136</td> \n",
       "        <td id=\"T_a181c0de_e4a4_11e8_a324_c49ded1c936arow2_col1\" class=\"data row2 col1\" >$3.04</td> \n",
       "        <td id=\"T_a181c0de_e4a4_11e8_a324_c49ded1c936arow2_col2\" class=\"data row2 col2\" >$412.89</td> \n",
       "        <td id=\"T_a181c0de_e4a4_11e8_a324_c49ded1c936arow2_col3\" class=\"data row2 col3\" >$3.04</td> \n",
       "    </tr>    <tr> \n",
       "        <th id=\"T_a181c0de_e4a4_11e8_a324_c49ded1c936alevel0_row3\" class=\"row_heading level0 row3\" >20-24</th> \n",
       "        <td id=\"T_a181c0de_e4a4_11e8_a324_c49ded1c936arow3_col0\" class=\"data row3 col0\" >365</td> \n",
       "        <td id=\"T_a181c0de_e4a4_11e8_a324_c49ded1c936arow3_col1\" class=\"data row3 col1\" >$3.05</td> \n",
       "        <td id=\"T_a181c0de_e4a4_11e8_a324_c49ded1c936arow3_col2\" class=\"data row3 col2\" >$1114.06</td> \n",
       "        <td id=\"T_a181c0de_e4a4_11e8_a324_c49ded1c936arow3_col3\" class=\"data row3 col3\" >$3.05</td> \n",
       "    </tr>    <tr> \n",
       "        <th id=\"T_a181c0de_e4a4_11e8_a324_c49ded1c936alevel0_row4\" class=\"row_heading level0 row4\" >25-29</th> \n",
       "        <td id=\"T_a181c0de_e4a4_11e8_a324_c49ded1c936arow4_col0\" class=\"data row4 col0\" >101</td> \n",
       "        <td id=\"T_a181c0de_e4a4_11e8_a324_c49ded1c936arow4_col1\" class=\"data row4 col1\" >$2.90</td> \n",
       "        <td id=\"T_a181c0de_e4a4_11e8_a324_c49ded1c936arow4_col2\" class=\"data row4 col2\" >$293.00</td> \n",
       "        <td id=\"T_a181c0de_e4a4_11e8_a324_c49ded1c936arow4_col3\" class=\"data row4 col3\" >$2.90</td> \n",
       "    </tr>    <tr> \n",
       "        <th id=\"T_a181c0de_e4a4_11e8_a324_c49ded1c936alevel0_row5\" class=\"row_heading level0 row5\" >30-34</th> \n",
       "        <td id=\"T_a181c0de_e4a4_11e8_a324_c49ded1c936arow5_col0\" class=\"data row5 col0\" >73</td> \n",
       "        <td id=\"T_a181c0de_e4a4_11e8_a324_c49ded1c936arow5_col1\" class=\"data row5 col1\" >$2.93</td> \n",
       "        <td id=\"T_a181c0de_e4a4_11e8_a324_c49ded1c936arow5_col2\" class=\"data row5 col2\" >$214.00</td> \n",
       "        <td id=\"T_a181c0de_e4a4_11e8_a324_c49ded1c936arow5_col3\" class=\"data row5 col3\" >$2.93</td> \n",
       "    </tr>    <tr> \n",
       "        <th id=\"T_a181c0de_e4a4_11e8_a324_c49ded1c936alevel0_row6\" class=\"row_heading level0 row6\" >35-39</th> \n",
       "        <td id=\"T_a181c0de_e4a4_11e8_a324_c49ded1c936arow6_col0\" class=\"data row6 col0\" >41</td> \n",
       "        <td id=\"T_a181c0de_e4a4_11e8_a324_c49ded1c936arow6_col1\" class=\"data row6 col1\" >$3.60</td> \n",
       "        <td id=\"T_a181c0de_e4a4_11e8_a324_c49ded1c936arow6_col2\" class=\"data row6 col2\" >$147.67</td> \n",
       "        <td id=\"T_a181c0de_e4a4_11e8_a324_c49ded1c936arow6_col3\" class=\"data row6 col3\" >$3.60</td> \n",
       "    </tr>    <tr> \n",
       "        <th id=\"T_a181c0de_e4a4_11e8_a324_c49ded1c936alevel0_row7\" class=\"row_heading level0 row7\" >40+</th> \n",
       "        <td id=\"T_a181c0de_e4a4_11e8_a324_c49ded1c936arow7_col0\" class=\"data row7 col0\" >13</td> \n",
       "        <td id=\"T_a181c0de_e4a4_11e8_a324_c49ded1c936arow7_col1\" class=\"data row7 col1\" >$2.94</td> \n",
       "        <td id=\"T_a181c0de_e4a4_11e8_a324_c49ded1c936arow7_col2\" class=\"data row7 col2\" >$38.24</td> \n",
       "        <td id=\"T_a181c0de_e4a4_11e8_a324_c49ded1c936arow7_col3\" class=\"data row7 col3\" >$2.94</td> \n",
       "    </tr></tbody> \n",
       "</table> "
      ],
      "text/plain": [
       "<pandas.io.formats.style.Styler at 0x2a998e59160>"
      ]
     },
     "execution_count": 11,
     "metadata": {},
     "output_type": "execute_result"
    }
   ],
   "source": [
    "# Purchasing Analysis (Age)\n",
    "age_stats = pd.DataFrame(purchase_df.groupby('Age').agg({'Purchase ID':'count', 'Price': {'Total Purchase Value':'sum', 'Average Purchase Price':'mean'}}))\n",
    "age_stats.columns = age_stats.columns.get_level_values(1) \n",
    "age_stats = age_stats.rename(index=str, columns={'count': 'Purchase Count'})\n",
    "age_stats['Normalized Totals'] = age_stats['Total Purchase Value']/age_stats['Purchase Count']\n",
    "age_stats = age_stats[['Purchase Count', 'Average Purchase Price', 'Total Purchase Value', 'Normalized Totals']]\n",
    "age_stats = age_stats.style.format({'Total Purchase Value': '${:.2f}', 'Average Purchase Price': '${:.2f}', 'Normalized Totals':'${:.2f}'})\n",
    "age_stats"
   ]
  },
  {
   "cell_type": "code",
   "execution_count": 12,
   "metadata": {},
   "outputs": [
    {
     "data": {
      "text/html": [
       "<style  type=\"text/css\" >\n",
       "</style>  \n",
       "<table id=\"T_a1d06e5e_e4a4_11e8_921d_c49ded1c936a\" > \n",
       "<thead>    <tr> \n",
       "        <th class=\"blank level0\" ></th> \n",
       "        <th class=\"col_heading level0 col0\" >Purchase Count</th> \n",
       "        <th class=\"col_heading level0 col1\" >Total Purchase Value</th> \n",
       "        <th class=\"col_heading level0 col2\" >Average Purchase Price</th> \n",
       "    </tr>    <tr> \n",
       "        <th class=\"index_name level0\" >SN</th> \n",
       "        <th class=\"blank\" ></th> \n",
       "        <th class=\"blank\" ></th> \n",
       "        <th class=\"blank\" ></th> \n",
       "    </tr></thead> \n",
       "<tbody>    <tr> \n",
       "        <th id=\"T_a1d06e5e_e4a4_11e8_921d_c49ded1c936alevel0_row0\" class=\"row_heading level0 row0\" >Lisosia93</th> \n",
       "        <td id=\"T_a1d06e5e_e4a4_11e8_921d_c49ded1c936arow0_col0\" class=\"data row0 col0\" >5</td> \n",
       "        <td id=\"T_a1d06e5e_e4a4_11e8_921d_c49ded1c936arow0_col1\" class=\"data row0 col1\" >$18.96</td> \n",
       "        <td id=\"T_a1d06e5e_e4a4_11e8_921d_c49ded1c936arow0_col2\" class=\"data row0 col2\" >$3.79</td> \n",
       "    </tr>    <tr> \n",
       "        <th id=\"T_a1d06e5e_e4a4_11e8_921d_c49ded1c936alevel0_row1\" class=\"row_heading level0 row1\" >Idastidru52</th> \n",
       "        <td id=\"T_a1d06e5e_e4a4_11e8_921d_c49ded1c936arow1_col0\" class=\"data row1 col0\" >4</td> \n",
       "        <td id=\"T_a1d06e5e_e4a4_11e8_921d_c49ded1c936arow1_col1\" class=\"data row1 col1\" >$15.45</td> \n",
       "        <td id=\"T_a1d06e5e_e4a4_11e8_921d_c49ded1c936arow1_col2\" class=\"data row1 col2\" >$3.86</td> \n",
       "    </tr>    <tr> \n",
       "        <th id=\"T_a1d06e5e_e4a4_11e8_921d_c49ded1c936alevel0_row2\" class=\"row_heading level0 row2\" >Chamjask73</th> \n",
       "        <td id=\"T_a1d06e5e_e4a4_11e8_921d_c49ded1c936arow2_col0\" class=\"data row2 col0\" >3</td> \n",
       "        <td id=\"T_a1d06e5e_e4a4_11e8_921d_c49ded1c936arow2_col1\" class=\"data row2 col1\" >$13.83</td> \n",
       "        <td id=\"T_a1d06e5e_e4a4_11e8_921d_c49ded1c936arow2_col2\" class=\"data row2 col2\" >$4.61</td> \n",
       "    </tr>    <tr> \n",
       "        <th id=\"T_a1d06e5e_e4a4_11e8_921d_c49ded1c936alevel0_row3\" class=\"row_heading level0 row3\" >Iral74</th> \n",
       "        <td id=\"T_a1d06e5e_e4a4_11e8_921d_c49ded1c936arow3_col0\" class=\"data row3 col0\" >4</td> \n",
       "        <td id=\"T_a1d06e5e_e4a4_11e8_921d_c49ded1c936arow3_col1\" class=\"data row3 col1\" >$13.62</td> \n",
       "        <td id=\"T_a1d06e5e_e4a4_11e8_921d_c49ded1c936arow3_col2\" class=\"data row3 col2\" >$3.40</td> \n",
       "    </tr>    <tr> \n",
       "        <th id=\"T_a1d06e5e_e4a4_11e8_921d_c49ded1c936alevel0_row4\" class=\"row_heading level0 row4\" >Iskadarya95</th> \n",
       "        <td id=\"T_a1d06e5e_e4a4_11e8_921d_c49ded1c936arow4_col0\" class=\"data row4 col0\" >3</td> \n",
       "        <td id=\"T_a1d06e5e_e4a4_11e8_921d_c49ded1c936arow4_col1\" class=\"data row4 col1\" >$13.10</td> \n",
       "        <td id=\"T_a1d06e5e_e4a4_11e8_921d_c49ded1c936arow4_col2\" class=\"data row4 col2\" >$4.37</td> \n",
       "    </tr></tbody> \n",
       "</table> "
      ],
      "text/plain": [
       "<pandas.io.formats.style.Styler at 0x2a998e59518>"
      ]
     },
     "execution_count": 12,
     "metadata": {},
     "output_type": "execute_result"
    }
   ],
   "source": [
    "# Top Spenders\n",
    "spender = pd.DataFrame(purchase_df.groupby('SN').agg({'Purchase ID':'count', 'Price': {'Total Purchase Value':'sum', 'Average Purchase Price':'mean'}}))\n",
    "spender.columns = spender.columns.get_level_values(1) \n",
    "spender = spender.rename(index=str, columns={'count': 'Purchase Count'})\n",
    "spender = spender.sort_values(by='Total Purchase Value', ascending=False)\n",
    "spender = spender[0:5]\n",
    "spender = spender.style.format({'Total Purchase Value': '${:.2f}', 'Average Purchase Price': '${:.2f}'})\n",
    "spender"
   ]
  },
  {
   "cell_type": "code",
   "execution_count": 13,
   "metadata": {},
   "outputs": [
    {
     "data": {
      "text/html": [
       "<style  type=\"text/css\" >\n",
       "</style>  \n",
       "<table id=\"T_a20f9612_e4a4_11e8_9d51_c49ded1c936a\" > \n",
       "<thead>    <tr> \n",
       "        <th class=\"blank\" ></th> \n",
       "        <th class=\"blank level0\" ></th> \n",
       "        <th class=\"col_heading level0 col0\" >Purchase Count</th> \n",
       "        <th class=\"col_heading level0 col1\" >Item Price</th> \n",
       "        <th class=\"col_heading level0 col2\" >Total Purchase Value</th> \n",
       "    </tr>    <tr> \n",
       "        <th class=\"index_name level0\" >Item ID</th> \n",
       "        <th class=\"index_name level1\" >Item Name</th> \n",
       "        <th class=\"blank\" ></th> \n",
       "        <th class=\"blank\" ></th> \n",
       "        <th class=\"blank\" ></th> \n",
       "    </tr></thead> \n",
       "<tbody>    <tr> \n",
       "        <th id=\"T_a20f9612_e4a4_11e8_9d51_c49ded1c936alevel0_row0\" class=\"row_heading level0 row0\" >178</th> \n",
       "        <th id=\"T_a20f9612_e4a4_11e8_9d51_c49ded1c936alevel1_row0\" class=\"row_heading level1 row0\" >Oathbreaker, Last Hope of the Breaking Storm</th> \n",
       "        <td id=\"T_a20f9612_e4a4_11e8_9d51_c49ded1c936arow0_col0\" class=\"data row0 col0\" >12</td> \n",
       "        <td id=\"T_a20f9612_e4a4_11e8_9d51_c49ded1c936arow0_col1\" class=\"data row0 col1\" >$4.23</td> \n",
       "        <td id=\"T_a20f9612_e4a4_11e8_9d51_c49ded1c936arow0_col2\" class=\"data row0 col2\" >$50.76</td> \n",
       "    </tr>    <tr> \n",
       "        <th id=\"T_a20f9612_e4a4_11e8_9d51_c49ded1c936alevel0_row1\" class=\"row_heading level0 row1\" >145</th> \n",
       "        <th id=\"T_a20f9612_e4a4_11e8_9d51_c49ded1c936alevel1_row1\" class=\"row_heading level1 row1\" >Fiery Glass Crusader</th> \n",
       "        <td id=\"T_a20f9612_e4a4_11e8_9d51_c49ded1c936arow1_col0\" class=\"data row1 col0\" >9</td> \n",
       "        <td id=\"T_a20f9612_e4a4_11e8_9d51_c49ded1c936arow1_col1\" class=\"data row1 col1\" >$4.58</td> \n",
       "        <td id=\"T_a20f9612_e4a4_11e8_9d51_c49ded1c936arow1_col2\" class=\"data row1 col2\" >$41.22</td> \n",
       "    </tr>    <tr> \n",
       "        <th id=\"T_a20f9612_e4a4_11e8_9d51_c49ded1c936alevel0_row2\" class=\"row_heading level0 row2\" >108</th> \n",
       "        <th id=\"T_a20f9612_e4a4_11e8_9d51_c49ded1c936alevel1_row2\" class=\"row_heading level1 row2\" >Extraction, Quickblade Of Trembling Hands</th> \n",
       "        <td id=\"T_a20f9612_e4a4_11e8_9d51_c49ded1c936arow2_col0\" class=\"data row2 col0\" >9</td> \n",
       "        <td id=\"T_a20f9612_e4a4_11e8_9d51_c49ded1c936arow2_col1\" class=\"data row2 col1\" >$3.53</td> \n",
       "        <td id=\"T_a20f9612_e4a4_11e8_9d51_c49ded1c936arow2_col2\" class=\"data row2 col2\" >$31.77</td> \n",
       "    </tr>    <tr> \n",
       "        <th id=\"T_a20f9612_e4a4_11e8_9d51_c49ded1c936alevel0_row3\" class=\"row_heading level0 row3\" >82</th> \n",
       "        <th id=\"T_a20f9612_e4a4_11e8_9d51_c49ded1c936alevel1_row3\" class=\"row_heading level1 row3\" >Nirvana</th> \n",
       "        <td id=\"T_a20f9612_e4a4_11e8_9d51_c49ded1c936arow3_col0\" class=\"data row3 col0\" >9</td> \n",
       "        <td id=\"T_a20f9612_e4a4_11e8_9d51_c49ded1c936arow3_col1\" class=\"data row3 col1\" >$4.90</td> \n",
       "        <td id=\"T_a20f9612_e4a4_11e8_9d51_c49ded1c936arow3_col2\" class=\"data row3 col2\" >$44.10</td> \n",
       "    </tr>    <tr> \n",
       "        <th id=\"T_a20f9612_e4a4_11e8_9d51_c49ded1c936alevel0_row4\" class=\"row_heading level0 row4\" >19</th> \n",
       "        <th id=\"T_a20f9612_e4a4_11e8_9d51_c49ded1c936alevel1_row4\" class=\"row_heading level1 row4\" >Pursuit, Cudgel of Necromancy</th> \n",
       "        <td id=\"T_a20f9612_e4a4_11e8_9d51_c49ded1c936arow4_col0\" class=\"data row4 col0\" >8</td> \n",
       "        <td id=\"T_a20f9612_e4a4_11e8_9d51_c49ded1c936arow4_col1\" class=\"data row4 col1\" >$1.02</td> \n",
       "        <td id=\"T_a20f9612_e4a4_11e8_9d51_c49ded1c936arow4_col2\" class=\"data row4 col2\" >$8.16</td> \n",
       "    </tr></tbody> \n",
       "</table> "
      ],
      "text/plain": [
       "<pandas.io.formats.style.Styler at 0x2a999c30cc0>"
      ]
     },
     "execution_count": 13,
     "metadata": {},
     "output_type": "execute_result"
    }
   ],
   "source": [
    "# Most Popular Items\n",
    "item_data = purchase_df[['Item ID', 'Item Name', 'Price']]\n",
    "top_purchases = pd.DataFrame(item_data.groupby(['Item ID', 'Item Name']).agg({'Price':['count', 'sum']}))\n",
    "top_purchases.columns = top_purchases.columns.get_level_values(1)\n",
    "top_purchases['Item Price'] = top_purchases['sum']/top_purchases['count']\n",
    "top_purchases = top_purchases[['count', 'Item Price', 'sum']]\n",
    "top_purchases = top_purchases.rename(index=str, columns={'count': 'Purchase Count', 'sum': 'Total Purchase Value'})\n",
    "top_purchases = top_purchases.sort_values(by='Purchase Count', ascending=False)\n",
    "top_5_purchases = top_purchases[0:5]\n",
    "top_5_purchases = top_5_purchases.style.format({'Total Purchase Value': '${:.2f}', 'Item Price': '${:.2f}'})\n",
    "top_5_purchases"
   ]
  },
  {
   "cell_type": "code",
   "execution_count": 14,
   "metadata": {},
   "outputs": [
    {
     "data": {
      "text/html": [
       "<style  type=\"text/css\" >\n",
       "</style>  \n",
       "<table id=\"T_a22b6f6c_e4a4_11e8_b9b5_c49ded1c936a\" > \n",
       "<thead>    <tr> \n",
       "        <th class=\"blank\" ></th> \n",
       "        <th class=\"blank level0\" ></th> \n",
       "        <th class=\"col_heading level0 col0\" >Purchase Count</th> \n",
       "        <th class=\"col_heading level0 col1\" >Item Price</th> \n",
       "        <th class=\"col_heading level0 col2\" >Total Purchase Value</th> \n",
       "    </tr>    <tr> \n",
       "        <th class=\"index_name level0\" >Item ID</th> \n",
       "        <th class=\"index_name level1\" >Item Name</th> \n",
       "        <th class=\"blank\" ></th> \n",
       "        <th class=\"blank\" ></th> \n",
       "        <th class=\"blank\" ></th> \n",
       "    </tr></thead> \n",
       "<tbody>    <tr> \n",
       "        <th id=\"T_a22b6f6c_e4a4_11e8_b9b5_c49ded1c936alevel0_row0\" class=\"row_heading level0 row0\" >178</th> \n",
       "        <th id=\"T_a22b6f6c_e4a4_11e8_b9b5_c49ded1c936alevel1_row0\" class=\"row_heading level1 row0\" >Oathbreaker, Last Hope of the Breaking Storm</th> \n",
       "        <td id=\"T_a22b6f6c_e4a4_11e8_b9b5_c49ded1c936arow0_col0\" class=\"data row0 col0\" >12</td> \n",
       "        <td id=\"T_a22b6f6c_e4a4_11e8_b9b5_c49ded1c936arow0_col1\" class=\"data row0 col1\" >$4.23</td> \n",
       "        <td id=\"T_a22b6f6c_e4a4_11e8_b9b5_c49ded1c936arow0_col2\" class=\"data row0 col2\" >$50.76</td> \n",
       "    </tr>    <tr> \n",
       "        <th id=\"T_a22b6f6c_e4a4_11e8_b9b5_c49ded1c936alevel0_row1\" class=\"row_heading level0 row1\" >82</th> \n",
       "        <th id=\"T_a22b6f6c_e4a4_11e8_b9b5_c49ded1c936alevel1_row1\" class=\"row_heading level1 row1\" >Nirvana</th> \n",
       "        <td id=\"T_a22b6f6c_e4a4_11e8_b9b5_c49ded1c936arow1_col0\" class=\"data row1 col0\" >9</td> \n",
       "        <td id=\"T_a22b6f6c_e4a4_11e8_b9b5_c49ded1c936arow1_col1\" class=\"data row1 col1\" >$4.90</td> \n",
       "        <td id=\"T_a22b6f6c_e4a4_11e8_b9b5_c49ded1c936arow1_col2\" class=\"data row1 col2\" >$44.10</td> \n",
       "    </tr>    <tr> \n",
       "        <th id=\"T_a22b6f6c_e4a4_11e8_b9b5_c49ded1c936alevel0_row2\" class=\"row_heading level0 row2\" >145</th> \n",
       "        <th id=\"T_a22b6f6c_e4a4_11e8_b9b5_c49ded1c936alevel1_row2\" class=\"row_heading level1 row2\" >Fiery Glass Crusader</th> \n",
       "        <td id=\"T_a22b6f6c_e4a4_11e8_b9b5_c49ded1c936arow2_col0\" class=\"data row2 col0\" >9</td> \n",
       "        <td id=\"T_a22b6f6c_e4a4_11e8_b9b5_c49ded1c936arow2_col1\" class=\"data row2 col1\" >$4.58</td> \n",
       "        <td id=\"T_a22b6f6c_e4a4_11e8_b9b5_c49ded1c936arow2_col2\" class=\"data row2 col2\" >$41.22</td> \n",
       "    </tr>    <tr> \n",
       "        <th id=\"T_a22b6f6c_e4a4_11e8_b9b5_c49ded1c936alevel0_row3\" class=\"row_heading level0 row3\" >92</th> \n",
       "        <th id=\"T_a22b6f6c_e4a4_11e8_b9b5_c49ded1c936alevel1_row3\" class=\"row_heading level1 row3\" >Final Critic</th> \n",
       "        <td id=\"T_a22b6f6c_e4a4_11e8_b9b5_c49ded1c936arow3_col0\" class=\"data row3 col0\" >8</td> \n",
       "        <td id=\"T_a22b6f6c_e4a4_11e8_b9b5_c49ded1c936arow3_col1\" class=\"data row3 col1\" >$4.88</td> \n",
       "        <td id=\"T_a22b6f6c_e4a4_11e8_b9b5_c49ded1c936arow3_col2\" class=\"data row3 col2\" >$39.04</td> \n",
       "    </tr>    <tr> \n",
       "        <th id=\"T_a22b6f6c_e4a4_11e8_b9b5_c49ded1c936alevel0_row4\" class=\"row_heading level0 row4\" >103</th> \n",
       "        <th id=\"T_a22b6f6c_e4a4_11e8_b9b5_c49ded1c936alevel1_row4\" class=\"row_heading level1 row4\" >Singed Scalpel</th> \n",
       "        <td id=\"T_a22b6f6c_e4a4_11e8_b9b5_c49ded1c936arow4_col0\" class=\"data row4 col0\" >8</td> \n",
       "        <td id=\"T_a22b6f6c_e4a4_11e8_b9b5_c49ded1c936arow4_col1\" class=\"data row4 col1\" >$4.35</td> \n",
       "        <td id=\"T_a22b6f6c_e4a4_11e8_b9b5_c49ded1c936arow4_col2\" class=\"data row4 col2\" >$34.80</td> \n",
       "    </tr></tbody> \n",
       "</table> "
      ],
      "text/plain": [
       "<pandas.io.formats.style.Styler at 0x2a998e59320>"
      ]
     },
     "execution_count": 14,
     "metadata": {},
     "output_type": "execute_result"
    }
   ],
   "source": [
    "# Most Profitable Items\n",
    "top_purchases = top_purchases.sort_values(by='Total Purchase Value', ascending=False)\n",
    "top_5_volume = top_purchases[0:5]\n",
    "top_5_volume = top_5_volume.style.format({'Total Purchase Value': '${:.2f}', 'Item Price': '${:.2f}'})\n",
    "top_5_volume"
   ]
  },
  {
   "cell_type": "code",
   "execution_count": null,
   "metadata": {},
   "outputs": [],
   "source": []
  }
 ],
 "metadata": {
  "kernelspec": {
   "display_name": "Python 3",
   "language": "python",
   "name": "python3"
  },
  "language_info": {
   "codemirror_mode": {
    "name": "ipython",
    "version": 3
   },
   "file_extension": ".py",
   "mimetype": "text/x-python",
   "name": "python",
   "nbconvert_exporter": "python",
   "pygments_lexer": "ipython3",
   "version": "3.6.6"
  }
 },
 "nbformat": 4,
 "nbformat_minor": 2
}
